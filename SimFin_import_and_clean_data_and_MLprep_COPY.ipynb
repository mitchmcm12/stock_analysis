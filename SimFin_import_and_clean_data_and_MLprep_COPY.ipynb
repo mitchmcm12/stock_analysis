{
 "cells": [
  {
   "cell_type": "code",
   "execution_count": null,
   "id": "59d8b322-0cd7-407e-948a-8635d299f41f",
   "metadata": {
    "scrolled": true
   },
   "outputs": [],
   "source": [
    "!pip install simfin"
   ]
  },
  {
   "cell_type": "code",
   "execution_count": null,
   "id": "7beb24a8-b431-44f7-80f0-fb64523156dc",
   "metadata": {},
   "outputs": [],
   "source": [
    "import simfin as sf\n",
    "import pandas as pd"
   ]
  },
  {
   "cell_type": "code",
   "execution_count": null,
   "id": "45df3b89-86f1-4478-9ddc-1a4cf37d31b3",
   "metadata": {},
   "outputs": [],
   "source": [
    "sf.set_api_key('d409b92f-778c-4032-86f3-ea08133424c4')    #Get SimFin API Key\n",
    "sf.set_data_dir('~simfin_data/')                          #Set Directory"
   ]
  },
  {
   "cell_type": "code",
   "execution_count": null,
   "id": "7e0bd2f5-606f-4e55-80b3-15de610f805e",
   "metadata": {},
   "outputs": [],
   "source": [
    "pd.set_option('display.max_columns', None)  # Show all columns"
   ]
  },
  {
   "cell_type": "code",
   "execution_count": null,
   "id": "205da271-ab79-4612-a71c-652d775b1f81",
   "metadata": {},
   "outputs": [],
   "source": [
    "income_df = sf.load_income(variant = 'quarterly', market = 'us').reset_index()    #Load income statements\n",
    "income_df"
   ]
  },
  {
   "cell_type": "code",
   "execution_count": null,
   "id": "f1654599-cd11-4abd-90f1-ea2325cbe4ec",
   "metadata": {},
   "outputs": [],
   "source": [
    "#Calculate Basic and Diluted EPS columns columns using income statements and add columns to dataframe\n",
    "\n",
    "income_df['Basic EPS'] = income_df['Net Income (Common)'] / income_df['Shares (Basic)']\n",
    "income_df['Diluted EPS'] = income_df['Net Income (Common)'] / income_df['Shares (Diluted)']\n",
    "income_df"
   ]
  },
  {
   "cell_type": "code",
   "execution_count": null,
   "id": "d272179b-b1ed-40ab-a130-cf63c20d2ba0",
   "metadata": {},
   "outputs": [],
   "source": [
    "#Load cashflow statements\n",
    "\n",
    "cashflow_df = sf.load_cashflow(variant = 'quarterly', market = 'us').reset_index()\n",
    "cashflow_df"
   ]
  },
  {
   "cell_type": "code",
   "execution_count": null,
   "id": "eece773b-e254-471c-8c07-72785b5c22f9",
   "metadata": {},
   "outputs": [],
   "source": [
    "#Drop columns that will end up as duplicates when merging income stmt, cashflow stmt, balance sheet\n",
    "\n",
    "cashflow_df = cashflow_df.drop(columns = ['Report Date',\n",
    "                                          'Currency',\n",
    "                                          'Publish Date',\n",
    "                                          'Restated Date',\n",
    "                                          'Shares (Basic)',\n",
    "                                          'Shares (Diluted)',\n",
    "                                          'Depreciation & Amortization'])\n",
    "cashflow_df"
   ]
  },
  {
   "cell_type": "code",
   "execution_count": null,
   "id": "ef629d1e-80ae-47fb-a33f-9ef00ff57539",
   "metadata": {},
   "outputs": [],
   "source": [
    "balance_df = sf.load_balance(variant = 'quarterly', market = 'us').reset_index()\n",
    "balance_df"
   ]
  },
  {
   "cell_type": "code",
   "execution_count": null,
   "id": "f1ba675b-8dc3-4917-ac06-6056f749db06",
   "metadata": {
    "scrolled": true
   },
   "outputs": [],
   "source": [
    "#Load company info\n",
    "\n",
    "companies_info_df = sf.load_companies(market = 'us').reset_index()\n",
    "companies_info_df"
   ]
  },
  {
   "cell_type": "code",
   "execution_count": null,
   "id": "b6a22e29-d83c-4a65-8808-f03416b5b5a6",
   "metadata": {},
   "outputs": [],
   "source": [
    "#Prepare to merge with sector and industry data\n",
    "#Select all rows and only first 4 columns\n",
    "\n",
    "companies_info_df = companies_info_df.iloc[:, :4]\n",
    "companies_info_df"
   ]
  },
  {
   "cell_type": "code",
   "execution_count": null,
   "id": "42734588-677b-4a35-b9b6-6d3f5c041363",
   "metadata": {},
   "outputs": [],
   "source": [
    "#View bottom of dataset to see how many NaN rows to cut off\n",
    "\n",
    "companies_info_df.tail(75)"
   ]
  },
  {
   "cell_type": "code",
   "execution_count": null,
   "id": "69dea4e7-0dac-41a4-8402-e49704104948",
   "metadata": {},
   "outputs": [],
   "source": [
    "#Drop off messy rows containing unusable data\n",
    "\n",
    "companies_info_df.drop(companies_info_df.index[-74:], inplace=True)"
   ]
  },
  {
   "cell_type": "code",
   "execution_count": null,
   "id": "bb85593d-4c4a-4f84-818d-cba09493f87d",
   "metadata": {},
   "outputs": [],
   "source": [
    "companies_info_df"
   ]
  },
  {
   "cell_type": "code",
   "execution_count": null,
   "id": "1053fd9f-b8a0-4cea-b14e-7ee2fd9624f5",
   "metadata": {},
   "outputs": [],
   "source": [
    "sector_industry = sf.load_industries().reset_index()\n",
    "sector_industry"
   ]
  },
  {
   "cell_type": "code",
   "execution_count": null,
   "id": "3174d260-9dce-4a55-916c-74fad99af46e",
   "metadata": {},
   "outputs": [],
   "source": [
    "#Select the three columns in the dataset to merge with company info df\n",
    "\n",
    "sector_industry = sector_industry[['IndustryId', 'Sector', 'Industry']]\n",
    "sector_industry"
   ]
  },
  {
   "cell_type": "code",
   "execution_count": null,
   "id": "e25b8d09-aeb3-4470-9105-0d21bbbd5c0d",
   "metadata": {},
   "outputs": [],
   "source": [
    "companies_industries_df = pd.merge(companies_info_df, sector_industry, on = 'IndustryId', how = 'left')\n",
    "companies_industries_df"
   ]
  },
  {
   "cell_type": "code",
   "execution_count": null,
   "id": "26fb3841-fc2d-4c1e-b259-5f42a303cde1",
   "metadata": {},
   "outputs": [],
   "source": [
    "#Drop overlapping columns with income stmt, balance sheet, and cashflow stmt in preparation to merge all\n",
    "\n",
    "balance_df = balance_df.drop(columns = ['Report Date',\n",
    "                                        'Currency',\n",
    "                                        'Publish Date',\n",
    "                                        'Restated Date',\n",
    "                                        'Shares (Basic)',\n",
    "                                        'Shares (Diluted)'])\n",
    "balance_df"
   ]
  },
  {
   "cell_type": "code",
   "execution_count": null,
   "id": "df814f01-d4ce-49b2-a02b-af8b95218db0",
   "metadata": {},
   "outputs": [],
   "source": [
    "merged_df = companies_industries_df.merge(income_df, on = ['Ticker', 'SimFinId'], how = 'left')\n",
    "                                   \n",
    "merged_df"
   ]
  },
  {
   "cell_type": "code",
   "execution_count": null,
   "id": "6488d415-db9c-449e-a6e4-b511837f23f0",
   "metadata": {},
   "outputs": [],
   "source": [
    "merged_df_2 = pd.merge(\n",
    "    merged_df, \n",
    "    cashflow_df, \n",
    "    on=['Ticker', 'SimFinId', 'Fiscal Year', 'Fiscal Period'], \n",
    "    how='left'\n",
    ")\n",
    "\n",
    "\n",
    "merged_df_3 = pd.merge(\n",
    "    merged_df_2, \n",
    "    balance_df, \n",
    "    on=['Ticker', 'SimFinId', 'Fiscal Year', 'Fiscal Period'], \n",
    "    how='left'\n",
    ")\n",
    "\n",
    "merged_df_3"
   ]
  },
  {
   "cell_type": "code",
   "execution_count": null,
   "id": "0b2b106a-f4af-4e77-b566-7048c3e16442",
   "metadata": {},
   "outputs": [],
   "source": [
    "merged_df_3 = merged_df_3.drop(columns = ['SimFinId','IndustryId'])"
   ]
  },
  {
   "cell_type": "code",
   "execution_count": null,
   "id": "74f3adb9-68bd-4ade-92f4-3aef3d80aee9",
   "metadata": {},
   "outputs": [],
   "source": [
    "merged_df_3.shape"
   ]
  },
  {
   "cell_type": "code",
   "execution_count": null,
   "id": "caee1572-5b4e-49b4-b779-2b66ec727b08",
   "metadata": {},
   "outputs": [],
   "source": [
    "# unique ticker symbols in dataset\n",
    "len(merged_df_3['Ticker'].unique().tolist())"
   ]
  },
  {
   "cell_type": "code",
   "execution_count": null,
   "id": "b10ad560-3d07-46c4-bbe6-ca4b65944a0c",
   "metadata": {},
   "outputs": [],
   "source": [
    "#Pull single company out of dataframe to use in analysis\n",
    "\n",
    "mastercard_df = merged_df_3[merged_df_3['Ticker'] == 'MA'].reset_index(drop = True)\n",
    "mastercard_df"
   ]
  },
  {
   "cell_type": "code",
   "execution_count": null,
   "id": "8c2dfef8-7043-4d97-9cd5-8db670fdd3f7",
   "metadata": {},
   "outputs": [],
   "source": [
    "#Get Columns containing NaN\n",
    "\n",
    "mastercard_df.isnull()"
   ]
  },
  {
   "cell_type": "code",
   "execution_count": null,
   "id": "f18259fe-30b8-4e60-9f6b-6912458201bc",
   "metadata": {
    "scrolled": true
   },
   "outputs": [],
   "source": [
    "#Get column NaN percentages and prepare to drop or replace values\n",
    "\n",
    "pct_missing = mastercard_df.isnull().sum() * 100 / len(mastercard_df)\n",
    "pct_missing_df = pd.DataFrame({'% Missing': pct_missing}).reset_index()\n",
    "pct_missing_df = pct_missing_df.sort_values(by = '% Missing', ascending=False)\n",
    "pct_missing_df"
   ]
  },
  {
   "cell_type": "code",
   "execution_count": null,
   "id": "c0d76ff7-8bc9-4d09-8781-bd87b4044b50",
   "metadata": {},
   "outputs": [],
   "source": [
    "#Drop columns containing mostly missing data - those that won't be useful in analysis\n",
    "\n",
    "drop_columns = pct_missing_df[ pct_missing_df['% Missing'] > 60]['index'].tolist()\n",
    "drop_columns"
   ]
  },
  {
   "cell_type": "code",
   "execution_count": null,
   "id": "fd394c9d-0b8b-4aee-9a73-976e73fe8881",
   "metadata": {
    "scrolled": true
   },
   "outputs": [],
   "source": [
    "mastercard_df = mastercard_df.drop(columns = drop_columns)\n",
    "mastercard_df"
   ]
  },
  {
   "cell_type": "code",
   "execution_count": null,
   "id": "84651168-d0a5-47de-b1ae-d0ee26101a8f",
   "metadata": {
    "scrolled": true
   },
   "outputs": [],
   "source": [
    "mastercard_df.isnull().sum()"
   ]
  },
  {
   "cell_type": "code",
   "execution_count": null,
   "id": "c29421eb-35a8-4deb-9754-bfbd2752fc81",
   "metadata": {
    "scrolled": true
   },
   "outputs": [],
   "source": [
    "#after dropping all columns that wont be useful, there are still two columns, ST Debt, and Net acquisitions and divestitures\n",
    "#Values can be replaced by zero, after confirming that debt and acquisitions and divestitures in those years was in fact, 0.\n",
    "#If it turned out to be an issue in the dataset, and those values were not supposed to be 0 - mean, median, or other values can be used\n",
    "\n",
    "mastercard_df.fillna(0, inplace = True)\n",
    "mastercard_df.isnull().sum()"
   ]
  },
  {
   "cell_type": "code",
   "execution_count": null,
   "id": "cc7a1a5c-e340-4e4a-a114-68ad64ad1ebe",
   "metadata": {},
   "outputs": [],
   "source": [
    "#Perform one hot encoding to Fiscal Period data to prepare for Machine Learning\n",
    "\n",
    "fiscal_encoded = pd.get_dummies(mastercard_df['Fiscal Period'], dtype = int)\n",
    "fiscal_encoded"
   ]
  },
  {
   "cell_type": "code",
   "execution_count": null,
   "id": "8b71fd72-6a43-4b6f-bea3-90a19f25b8e7",
   "metadata": {},
   "outputs": [],
   "source": [
    "#Drop fiscal period column and replace it with the one hot encoded version\n",
    "\n",
    "mastercard_df = mastercard_df.drop('Fiscal Period', axis = 1)\n",
    "mastercard_df = pd.concat([mastercard_df, fiscal_encoded],axis = 1)\n",
    "mastercard_df"
   ]
  },
  {
   "cell_type": "code",
   "execution_count": null,
   "id": "9a36f427-ffd9-435a-844e-49f96606602a",
   "metadata": {},
   "outputs": [],
   "source": [
    "#confirm Report Date is datetime64\n",
    "mastercard_df.info()"
   ]
  },
  {
   "cell_type": "code",
   "execution_count": null,
   "id": "bfb565ac-b2e8-4de1-99c0-7e5bfca433ee",
   "metadata": {},
   "outputs": [],
   "source": [
    "#Because the one hot encoded values does not require the int64 datatype, uint8 will take up less memory\n",
    "#convert to uint8\n",
    "\n",
    "mastercard_df[['Q1', 'Q2', 'Q3', 'Q4']] = mastercard_df[['Q1', 'Q2', 'Q3', 'Q4']].astype('uint8')\n",
    "mastercard_df.info()"
   ]
  },
  {
   "cell_type": "code",
   "execution_count": null,
   "id": "49a14549-d8fd-4430-a33a-52bf643264e9",
   "metadata": {},
   "outputs": [],
   "source": [
    "#Create a new concatenated column calculating revenue QoQ percent change\n",
    "\n",
    "mastercard_df['Revenue' + ' change from last quarter'] = mastercard_df['Revenue'].pct_change()\n",
    "mastercard_df"
   ]
  },
  {
   "cell_type": "code",
   "execution_count": null,
   "id": "2cbf45a3-106d-4884-a7b5-30dea70a1909",
   "metadata": {},
   "outputs": [],
   "source": [
    "#Same concatenation as previous block of code, now performing QoQ changes to desired variables\n",
    "\n",
    "features_get_delta = ['Shares (Basic)',\n",
    "                      'Shares (Diluted)',\n",
    "                      'Operating Income (Loss)',\n",
    "                      'Net Income',\n",
    "                      'Total Liabilities & Equity']\n",
    "\n",
    "for feature in features_get_delta:\n",
    "    mastercard_df[feature + ' change from last quarter'] = mastercard_df[feature].pct_change()"
   ]
  },
  {
   "cell_type": "code",
   "execution_count": null,
   "id": "b68b6475-13f9-495b-bbaa-d5225d1d6b7a",
   "metadata": {},
   "outputs": [],
   "source": [
    "mastercard_df"
   ]
  },
  {
   "cell_type": "code",
   "execution_count": null,
   "id": "73bb65eb-c8ce-4119-bfb2-79c139ebafc1",
   "metadata": {},
   "outputs": [],
   "source": [
    "# Create target (output) label that ML model will be trained to predict\n",
    "#shift the Basic EPS column by one sample and place results in new column\n",
    "# target label is the quarterly pct change in EPS\n",
    "mastercard_df['Next Quarter EPS'] = mastercard_df['Basic EPS'].shift(-1)\n",
    "mastercard_df"
   ]
  },
  {
   "cell_type": "code",
   "execution_count": null,
   "id": "62702b2b-78dd-4627-afc4-0c3b4229d4b2",
   "metadata": {},
   "outputs": [],
   "source": [
    "mastercard_df = mastercard_df.dropna(subset = ['Next Quarter EPS']).reset_index(drop = True)\n",
    "mastercard_df"
   ]
  },
  {
   "cell_type": "code",
   "execution_count": null,
   "id": "eced06c8-9809-44e8-acdf-3691b258b7f0",
   "metadata": {},
   "outputs": [],
   "source": [
    "mastercard_df = mastercard_df.dropna().reset_index(drop = True)\n",
    "mastercard_df"
   ]
  },
  {
   "cell_type": "code",
   "execution_count": null,
   "id": "a02a5b75-e373-4858-bc3e-4c21a30b369d",
   "metadata": {},
   "outputs": [],
   "source": [
    "#Define function to return the target variable to be used in regression\n",
    "\n",
    "def regression_label(next_quarter, current_quarter):\n",
    "    if abs(current_quarter) == 0:\n",
    "        return 0\n",
    "    return(next_quarter - current_quarter) / abs(current_quarter)\n",
    "\n",
    "mastercard_df['% Quarterly change in EPS (Regression Label)'] =\\\n",
    "mastercard_df.apply(lambda row: regression_label(row['Next Quarter EPS'], row['Basic EPS']), axis = 1)\n",
    "\n",
    "mastercard_df"
   ]
  },
  {
   "cell_type": "code",
   "execution_count": null,
   "id": "5d725ea4-79a2-4f78-b3f1-75a78a1f0b34",
   "metadata": {},
   "outputs": [],
   "source": []
  },
  {
   "cell_type": "code",
   "execution_count": null,
   "id": "d547f62c-4780-4311-b45d-773dbceec56a",
   "metadata": {},
   "outputs": [],
   "source": []
  },
  {
   "cell_type": "code",
   "execution_count": null,
   "id": "7e9dee93-fd62-4570-afac-df3787bf0152",
   "metadata": {},
   "outputs": [],
   "source": []
  }
 ],
 "metadata": {
  "kernelspec": {
   "display_name": "Python (env)",
   "language": "python",
   "name": "env"
  },
  "language_info": {
   "codemirror_mode": {
    "name": "ipython",
    "version": 3
   },
   "file_extension": ".py",
   "mimetype": "text/x-python",
   "name": "python",
   "nbconvert_exporter": "python",
   "pygments_lexer": "ipython3",
   "version": "3.13.2"
  }
 },
 "nbformat": 4,
 "nbformat_minor": 5
}
