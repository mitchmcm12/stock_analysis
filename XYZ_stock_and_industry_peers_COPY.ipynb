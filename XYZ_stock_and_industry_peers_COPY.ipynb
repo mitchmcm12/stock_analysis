{
 "cells": [
  {
   "cell_type": "code",
   "execution_count": null,
   "id": "6f795902-2f76-4f00-a0c1-348daac04a98",
   "metadata": {},
   "outputs": [],
   "source": [
    "import pandas as pd\n",
    "import numpy as np\n",
    "import datetime as dt"
   ]
  },
  {
   "cell_type": "code",
   "execution_count": null,
   "id": "c7088f8c-1a88-4b32-b255-a6ec7cd3e663",
   "metadata": {
    "scrolled": true
   },
   "outputs": [],
   "source": [
    "!pip install yfinance\n",
    "import yfinance as yf"
   ]
  },
  {
   "cell_type": "code",
   "execution_count": null,
   "id": "9b240d4d-6c46-40dd-82d1-40e15c2effdf",
   "metadata": {},
   "outputs": [],
   "source": [
    "block = yf.Ticker('XYZ')\n",
    "block"
   ]
  },
  {
   "cell_type": "code",
   "execution_count": null,
   "id": "c82c0f2d-004d-4b72-9e7e-a45862abae5d",
   "metadata": {},
   "outputs": [],
   "source": [
    "block_data = block.history(start = '2020-01-01', end = '2024-12-31', interval = '1d', auto_adjust = False)\n",
    "block_data"
   ]
  },
  {
   "cell_type": "code",
   "execution_count": null,
   "id": "3aec8a24-d7da-4ae5-bcdd-c88c25181d93",
   "metadata": {},
   "outputs": [],
   "source": [
    "block_data.reset_index(inplace=True)\n",
    "block_data"
   ]
  },
  {
   "cell_type": "code",
   "execution_count": null,
   "id": "096baf99-1012-4e4f-b21b-99bebbcfe7c6",
   "metadata": {},
   "outputs": [],
   "source": [
    "block_data.isnull().sum()"
   ]
  },
  {
   "cell_type": "code",
   "execution_count": null,
   "id": "29fed495-3c9f-4fd9-8ff8-909e4a1ea4b7",
   "metadata": {},
   "outputs": [],
   "source": [
    "block_data['Stock Splits'].sum()"
   ]
  },
  {
   "cell_type": "code",
   "execution_count": null,
   "id": "3d3f232b-e083-474c-8ed7-6cfc1df0afa0",
   "metadata": {
    "scrolled": true
   },
   "outputs": [],
   "source": [
    "block_data['Dividends'].sum()"
   ]
  },
  {
   "cell_type": "code",
   "execution_count": null,
   "id": "cf3a121a-82ef-411f-88bc-0ff25edd7158",
   "metadata": {},
   "outputs": [],
   "source": [
    "block_data.drop(['Dividends','Stock Splits'], axis = 1, inplace = True)\n",
    "block_data"
   ]
  },
  {
   "cell_type": "code",
   "execution_count": null,
   "id": "c6ffcd47-2587-4a6b-b083-b79a91b36312",
   "metadata": {},
   "outputs": [],
   "source": [
    "block_data['Daily Return'] = block_data['Adj Close'].pct_change(1) * 100\n",
    "block_data"
   ]
  },
  {
   "cell_type": "code",
   "execution_count": null,
   "id": "5d94cd7a-d1ed-44c5-a65f-5974601d6b51",
   "metadata": {},
   "outputs": [],
   "source": [
    "block_data['Daily Return'].fillna(0)\n",
    "block_data"
   ]
  },
  {
   "cell_type": "code",
   "execution_count": null,
   "id": "ece65ae0-57b9-4ba4-ac92-668087357bda",
   "metadata": {},
   "outputs": [],
   "source": [
    "block_data.describe().round(2)"
   ]
  },
  {
   "cell_type": "code",
   "execution_count": null,
   "id": "850a648e-242d-48da-9ac4-2832941e48f5",
   "metadata": {
    "scrolled": true
   },
   "outputs": [],
   "source": [
    "import matplotlib.pyplot as plt\n",
    "\n",
    "!pip install seaborn\n",
    "import seaborn as sns\n",
    "\n",
    "!pip install plotly\n",
    "import plotly.express as px\n",
    "import plotly.graph_objects as go"
   ]
  },
  {
   "cell_type": "code",
   "execution_count": null,
   "id": "6ddbb5c7-603a-46e1-9535-678e3a56b433",
   "metadata": {},
   "outputs": [],
   "source": [
    "fig = go.Figure(data=[go.Candlestick(x=block_data['Date'],\n",
    "                open=block_data['Open'],\n",
    "                high=block_data['High'],\n",
    "                low=block_data['Low'],\n",
    "                close=block_data['Adj Close'])])\n",
    "\n",
    "fig.show()"
   ]
  },
  {
   "cell_type": "code",
   "execution_count": null,
   "id": "c3047b76-d62e-4971-806a-64a94edab513",
   "metadata": {},
   "outputs": [],
   "source": [
    "fig = px.line(block_data, x='Date', y='Volume', title='xyz volume')\n",
    "\n",
    "fig.update_xaxes(\n",
    "    rangeslider_visible=True,\n",
    "    rangeselector=dict(\n",
    "        buttons=list([\n",
    "            dict(count=1, label=\"1m\", step=\"month\", stepmode=\"backward\"),\n",
    "            dict(count=6, label=\"6m\", step=\"month\", stepmode=\"backward\"),\n",
    "            dict(count=1, label=\"YTD\", step=\"year\", stepmode=\"todate\"),\n",
    "            dict(count=1, label=\"1y\", step=\"year\", stepmode=\"backward\"),\n",
    "            dict(step=\"all\")\n",
    "        ])\n",
    "    )\n",
    ")\n",
    "fig.show()"
   ]
  },
  {
   "cell_type": "code",
   "execution_count": null,
   "id": "2bd4a341-8ac6-4049-9d0c-b2be65a41013",
   "metadata": {},
   "outputs": [],
   "source": [
    "fig = px.line(block_data, x='Date', y='Daily Return', title='xyz daily return')\n",
    "\n",
    "fig.update_xaxes(\n",
    "    rangeslider_visible=True,\n",
    "    rangeselector=dict(\n",
    "        buttons=list([\n",
    "            dict(count=1, label=\"1m\", step=\"month\", stepmode=\"backward\"),\n",
    "            dict(count=6, label=\"6m\", step=\"month\", stepmode=\"backward\"),\n",
    "            dict(count=1, label=\"YTD\", step=\"year\", stepmode=\"todate\"),\n",
    "            dict(count=1, label=\"1y\", step=\"year\", stepmode=\"backward\"),\n",
    "            dict(step=\"all\")\n",
    "        ])\n",
    "    )\n",
    ")\n",
    "fig.show()"
   ]
  },
  {
   "cell_type": "code",
   "execution_count": null,
   "id": "a67d682b-1c78-45c7-be89-3b34eb288059",
   "metadata": {},
   "outputs": [],
   "source": [
    "block_data.describe()"
   ]
  },
  {
   "cell_type": "code",
   "execution_count": null,
   "id": "b231053b-48b9-4c24-a1bf-9c6c0f7a0706",
   "metadata": {},
   "outputs": [],
   "source": [
    "std_dev = block_data['Daily Return'].std()\n",
    "std_dev"
   ]
  },
  {
   "cell_type": "code",
   "execution_count": null,
   "id": "b1036563-fc17-4d8d-b1bf-8b83e168c13d",
   "metadata": {},
   "outputs": [],
   "source": [
    "bins = [-np.inf, -3*std_dev, -2*std_dev, -1*std_dev, 1*std_dev, 2*std_dev, 3*std_dev, np.inf]\n",
    "labels = ['<-3σ', '-3σ to -2σ', '-2σ to -1σ', '-1σ to 1σ', '1σ to 2σ', '2σ to 3σ', '>3σ']\n",
    "block_data['Category'] = pd.cut(block_data['Daily Return'], bins=bins, labels=labels)\n",
    "\n",
    "category_counts = block_data['Category'].value_counts().sort_index()\n",
    "plt.figure(figsize=(8, 8))\n",
    "plt.pie(category_counts, labels=category_counts.index, autopct='%1.1f%%', pctdistance = 1.05, labeldistance = 1.2, startangle = 140, colors=plt.cm.Paired(range(len(labels))))\n",
    "plt.title('Distribution of Daily Percentage Moves for XYZ Stock')\n",
    "plt.show()"
   ]
  },
  {
   "cell_type": "code",
   "execution_count": null,
   "id": "313b7853-fb85-4eb5-b8c0-691f66accf21",
   "metadata": {
    "scrolled": true
   },
   "outputs": [],
   "source": [
    "pip install pandas pandas_datareader"
   ]
  },
  {
   "cell_type": "code",
   "execution_count": null,
   "id": "87ebda13-9902-40bb-96ca-6e994f3607b1",
   "metadata": {},
   "outputs": [],
   "source": [
    "from pandas_datareader import data as pdr\n",
    "import datetime"
   ]
  },
  {
   "cell_type": "code",
   "execution_count": null,
   "id": "852169db-8d86-4b3e-8386-002c6929fb23",
   "metadata": {},
   "outputs": [],
   "source": [
    "block_competitors = ['PYPL', 'AFRM', 'GPN', 'FOUR', 'XYZ']\n",
    "start_date = '2022-01-01'\n",
    "end_date = '2024-12-31'"
   ]
  },
  {
   "cell_type": "code",
   "execution_count": null,
   "id": "ccb73bcd-cf9d-4e02-b6ba-3d2a60b47c9f",
   "metadata": {},
   "outputs": [],
   "source": [
    "close_price_data = yf.download(block_competitors, start=start_date, end=end_date)['Close']\n",
    "print(data.head())"
   ]
  },
  {
   "cell_type": "code",
   "execution_count": null,
   "id": "2b3dfe32-fab3-4d93-8783-de88fd3281b8",
   "metadata": {},
   "outputs": [],
   "source": [
    "df_long = close_price_data.reset_index().melt(id_vars='Date', var_name='Ticker', value_name='Close Price')\n",
    "df_long"
   ]
  },
  {
   "cell_type": "code",
   "execution_count": null,
   "id": "5f7f5bb2-097c-460a-bc5e-b17260950d40",
   "metadata": {},
   "outputs": [],
   "source": [
    "fig = px.line(df_long, x='Date', y='Close Price', color='Ticker', title='Stock Closing Prices')\n",
    "fig.show()"
   ]
  },
  {
   "cell_type": "code",
   "execution_count": null,
   "id": "f3c8645c-d2ce-4999-86a4-3ae7db391214",
   "metadata": {},
   "outputs": [],
   "source": [
    "daily_returns = (close_price_data.iloc[1:] - close_price_data.iloc[:-1].values) / close_price_data.iloc[:-1].values\n",
    "daily_returns_df = pd.DataFrame(daily_returns, columns=close_price_data.columns, index=close_price_data.index[1:])\n",
    "daily_returns_df"
   ]
  },
  {
   "cell_type": "code",
   "execution_count": null,
   "id": "499e4b27-2347-4aee-8a24-f9c0b82ae338",
   "metadata": {},
   "outputs": [],
   "source": [
    "daily_returns_df_px = daily_returns_df.reset_index().melt(id_vars=\"Date\", var_name=\"Ticker\", value_name=\"Return\")\n",
    "fig = px.line(daily_returns_df_px, x=\"Date\", y=\"Return\", color=\"Ticker\", title=\"Stock Return Over Time\")\n",
    "fig.show()"
   ]
  },
  {
   "cell_type": "code",
   "execution_count": null,
   "id": "7741d91b-c713-460b-acb9-b586777cbdcb",
   "metadata": {},
   "outputs": [],
   "source": [
    "fig = px.histogram(daily_returns_df)\n",
    "fig.update_layout(\n",
    "    title=\"Distribution of Daily Stock Returns\",\n",
    "    plot_bgcolor=\"white\"\n",
    ")\n",
    "fig.show()"
   ]
  },
  {
   "cell_type": "code",
   "execution_count": null,
   "id": "789e9a2c-0e74-4720-a3d5-2b70b4b64d91",
   "metadata": {},
   "outputs": [],
   "source": [
    "plt.figure(figsize = (10, 8))\n",
    "sns.heatmap(daily_returns_df.corr(), annot = True, cmap = 'crest')"
   ]
  },
  {
   "cell_type": "code",
   "execution_count": null,
   "id": "ecfcb3c9-ef7b-4807-ae25-0d9337169e42",
   "metadata": {},
   "outputs": [],
   "source": [
    "sns.pairplot(daily_returns_df);"
   ]
  },
  {
   "cell_type": "code",
   "execution_count": null,
   "id": "70dc194f-02b4-466f-aed6-f88213107458",
   "metadata": {},
   "outputs": [],
   "source": [
    "def price_scaling(raw_prices_df):\n",
    "    scaled_prices_df = raw_prices_df.copy()\n",
    "    for col in raw_prices_df.columns:\n",
    "        scaled_prices_df[col] = raw_prices_df[col] / raw_prices_df.iloc[0][col]\n",
    "    return scaled_prices_df"
   ]
  },
  {
   "cell_type": "code",
   "execution_count": null,
   "id": "e432d205-74b9-47c9-ba5b-6fa4feea03c7",
   "metadata": {},
   "outputs": [],
   "source": [
    "price_scaling(close_price_data)"
   ]
  },
  {
   "cell_type": "code",
   "execution_count": null,
   "id": "a23dd18f-a9b3-4510-8f5f-5ae9e65a269c",
   "metadata": {},
   "outputs": [],
   "source": [
    "fig = px.line(price_scaling(close_price_data))\n",
    "fig.show()"
   ]
  },
  {
   "cell_type": "code",
   "execution_count": null,
   "id": "1d8f5bd7-91d5-4a3c-b09c-6f6c3e7b820c",
   "metadata": {},
   "outputs": [],
   "source": [
    "import random\n",
    "\n",
    "def generate_random_weights(n):\n",
    "    weights = []\n",
    "    for i in range(n):\n",
    "        weights.append(random.random())\n",
    "    weights = weights/np.sum(weights)\n",
    "    return weights"
   ]
  },
  {
   "cell_type": "code",
   "execution_count": null,
   "id": "75cd947f-f4a1-4d7d-8870-878980c99cf3",
   "metadata": {},
   "outputs": [],
   "source": [
    "weights = generate_random_weights(5)\n",
    "print(weights)"
   ]
  },
  {
   "cell_type": "code",
   "execution_count": null,
   "id": "9a06c764-de87-40d9-aec8-73b95fb1f993",
   "metadata": {},
   "outputs": [],
   "source": [
    "weights.sum()"
   ]
  },
  {
   "cell_type": "code",
   "execution_count": null,
   "id": "0a792787-9bfe-4993-b62a-379e7e274887",
   "metadata": {},
   "outputs": [],
   "source": [
    "close_price_data"
   ]
  },
  {
   "cell_type": "code",
   "execution_count": null,
   "id": "390c7e6b-b10b-41de-97bd-5587bcf9cfa3",
   "metadata": {},
   "outputs": [],
   "source": [
    "portfolio_df = close_price_data.copy()\n",
    "scaled_df = price_scaling(portfolio_df)\n",
    "scaled_df"
   ]
  },
  {
   "cell_type": "code",
   "execution_count": null,
   "id": "bf521de8-2345-4649-80d4-ae3065c1b02d",
   "metadata": {},
   "outputs": [],
   "source": [
    "initial_investment = 1000000\n",
    "for i, stock in enumerate(scaled_df.columns[0:]):\n",
    "    portfolio_df[stock] = weights[i] * scaled_df[stock] * initial_investment\n",
    "\n",
    "portfolio_df.round(1)"
   ]
  },
  {
   "cell_type": "code",
   "execution_count": null,
   "id": "61a4ac1b-464c-40c0-b1d3-7c367829b037",
   "metadata": {},
   "outputs": [],
   "source": [
    "def asset_allocation(df, weights, initial_investment):\n",
    "    portfolio_df = df.copy()\n",
    "    scaled_df = price_scaling(df)\n",
    "    for i, stock in enumerate(scaled_df.columns[0:]):\n",
    "        portfolio_df[stock] = scaled_df[stock] * weights[i] * initial_investment\n",
    "\n",
    "    portfolio_df['Portfolio Value'] = portfolio_df[portfolio_df != 'Date'].sum(axis=1, numeric_only = True)\n",
    "    portfolio_df['Daily % Return'] = portfolio_df['Portfolio Value'].pct_change(1) * 100\n",
    "    portfolio_df.replace(np.nan, 0, inplace = True)\n",
    "\n",
    "    return portfolio_df"
   ]
  },
  {
   "cell_type": "code",
   "execution_count": null,
   "id": "d77345be-9702-4c04-8751-ea4e46cd2d76",
   "metadata": {},
   "outputs": [],
   "source": [
    "n = len(close_price_data.columns)\n",
    "\n",
    "print('Number of stocks under consideration: {}'.format(n))\n",
    "weights = generate_random_weights(n).round(5)\n",
    "print('Portfolio Weights: {}'.format(weights))\n",
    "\n",
    "portfolio_df = asset_allocation(close_price_data, weights, 1000000)\n",
    "portfolio_df.round(2)"
   ]
  },
  {
   "cell_type": "code",
   "execution_count": null,
   "id": "0070f174-b1b8-4818-a77b-bdc14047156d",
   "metadata": {},
   "outputs": [],
   "source": [
    "fig = px.line(portfolio_df, x=portfolio_df.index, y='Daily % Return', \n",
    "              title=\"Daily Percentage Return\",\n",
    "              labels={'Daily % Return': 'Daily Return (%)', 'index': 'Date'})\n",
    "fig.show()\n",
    "\n",
    "\n",
    "fig = px.line(portfolio_df, x=portfolio_df.index, y= ['AFRM', 'FOUR', 'GPN', 'PYPL', 'XYZ'], \n",
    "              title=\"Portfolio Value\",\n",
    "              labels={'Daily % Return': 'Daily Return (%)', 'index': 'Date'})\n",
    "fig.show()\n",
    "\n",
    "\n",
    "fig = px.line(portfolio_df, x=portfolio_df.index, y='Portfolio Value', \n",
    "              title=\"Portfolio Value\",\n",
    "              labels={'Daily % Return': 'Daily Return (%)', 'index': 'Date'})\n",
    "fig.show()"
   ]
  },
  {
   "cell_type": "code",
   "execution_count": null,
   "id": "b2a21177-ba27-42a0-8c31-d4321072df29",
   "metadata": {},
   "outputs": [],
   "source": [
    "def simulation_engine(weights, initial_investment):\n",
    "    portfolio_df = asset_allocation(close_price_data, weights, initial_investment)\n",
    "    return_on_investment = ((portfolio_df['Portfolio Value'].iloc[-1] -\n",
    "                             portfolio_df['Portfolio Value'].iloc[0])/\n",
    "                             portfolio_df['Portfolio Value'].iloc[0]) *100\n",
    "\n",
    "    portfolio_daily_return_df = portfolio_df[['AFRM', 'FOUR', 'GPN', 'PYPL', 'XYZ']]\n",
    "    portfolio_daily_return_df = portfolio_daily_return_df.pct_change(1)\n",
    "\n",
    "    expected_portfolio_return = np.sum(weights * portfolio_daily_return_df.mean()) *252\n",
    "\n",
    "    covariance = portfolio_daily_return_df.cov() * 252\n",
    "    expected_volatility = np.sqrt(np.dot(weights.T, np.dot(covariance, weights)))\n",
    "\n",
    "    final_portfolio_value = portfolio_df['Portfolio Value'].iloc[-1]\n",
    "\n",
    "    rf = 0.0432\n",
    "\n",
    "    sharpe_ratio = (expected_portfolio_return-rf)/expected_volatility\n",
    "    return expected_portfolio_return, expected_volatility, sharpe_ratio, portfolio_df['Portfolio Value'].iloc[-1], return_on_investment"
   ]
  },
  {
   "cell_type": "code",
   "execution_count": null,
   "id": "980661a8-5846-4596-9706-297239af0649",
   "metadata": {},
   "outputs": [],
   "source": [
    "initial_investment = 1000000\n",
    "portfolio_metrics = simulation_engine(weights, initial_investment)"
   ]
  },
  {
   "cell_type": "code",
   "execution_count": null,
   "id": "52472735-0348-45ea-9015-5ea6d65683d4",
   "metadata": {},
   "outputs": [],
   "source": [
    "print(\"Expected Portfolio Return: {:.2f}%\".format(portfolio_metrics[0]*100))\n",
    "print(\"Expected Portfolio Volatility: {:.2f}%\".format(portfolio_metrics[1]*100))\n",
    "print(\"Sharpe Ratio: {:.2f}\".format(portfolio_metrics[2]))\n",
    "print(\"Final Portfolio Value: ${:.2f}\".format(portfolio_metrics[3]))\n",
    "print(\"Return on Investment: {:.2f}%\".format(portfolio_metrics[4]))"
   ]
  },
  {
   "cell_type": "code",
   "execution_count": null,
   "id": "683fafb2-d251-4c0e-90a3-095f7eeca5b2",
   "metadata": {
    "scrolled": true
   },
   "outputs": [],
   "source": [
    "sim_runs = 5000\n",
    "initial_investment = 1000000\n",
    "\n",
    "weight_runs = np.zeros((sim_runs, n))\n",
    "sharpe_ratio_runs = np.zeros(sim_runs)\n",
    "expected_portfolio_returns_runs = np.zeros(sim_runs)\n",
    "volatility_runs = np.zeros(sim_runs)\n",
    "return_on_investment_runs = np.zeros(sim_runs)\n",
    "final_value_runs = np.zeros(sim_runs)\n",
    "\n",
    "for i in range(sim_runs):\n",
    "    weights = generate_random_weights(n)\n",
    "    weight_runs[i, :] = weights\n",
    "\n",
    "    expected_portfolio_returns_runs[i], volatility_runs[i], sharpe_ratio_runs[i], final_value_runs[i], return_on_investment_runs[i] = simulation_engine(weights, initial_investment)\n",
    "    print(f'Simulation Run = {i}')\n",
    "    print(f'Weights = {weight_runs[i].round(3).tolist()}')\n",
    "    print(f'Final Portfolio Value = ${final_value_runs[i]:,.2f}')\n",
    "    print(f'Sharpe Ratio = {sharpe_ratio_runs[i]:.2f}')\n",
    "    print('\\n')"
   ]
  },
  {
   "cell_type": "code",
   "execution_count": null,
   "id": "0b5cf09a-ec55-4853-8c11-46e9a4f44102",
   "metadata": {},
   "outputs": [],
   "source": []
  },
  {
   "cell_type": "code",
   "execution_count": null,
   "id": "06267c7f-fe47-41f9-8483-a08db1840baa",
   "metadata": {},
   "outputs": [],
   "source": []
  },
  {
   "cell_type": "code",
   "execution_count": null,
   "id": "b92759e5-d722-4e72-90f1-ad815700e72f",
   "metadata": {},
   "outputs": [],
   "source": [
    "sharpe_ratio_runs"
   ]
  },
  {
   "cell_type": "code",
   "execution_count": null,
   "id": "a15417d2-2810-47d0-83ee-0725d6b5fcf2",
   "metadata": {},
   "outputs": [],
   "source": [
    "sharpe_ratio_runs.argmax()"
   ]
  },
  {
   "cell_type": "code",
   "execution_count": null,
   "id": "a18b766a-8450-4014-8c8b-d02d8da2a374",
   "metadata": {},
   "outputs": [],
   "source": []
  },
  {
   "cell_type": "code",
   "execution_count": null,
   "id": "e11ad749-d89a-49e5-9d94-cac54aec9cf9",
   "metadata": {},
   "outputs": [],
   "source": [
    "sharpe_ratio_runs.max()"
   ]
  },
  {
   "cell_type": "code",
   "execution_count": null,
   "id": "6c01c602-0f20-4924-9f4d-a52fe71bfce2",
   "metadata": {},
   "outputs": [],
   "source": [
    "weight_runs[sharpe_ratio_runs.argmax(), :]"
   ]
  },
  {
   "cell_type": "code",
   "execution_count": null,
   "id": "129ced36-35f2-42ed-aebb-e0fa08ecb31a",
   "metadata": {},
   "outputs": [],
   "source": [
    "optimal_portfolio_return, optimal_volatility, optimal_sharpe_ratio, highest_final_value, optimal_roi = simulation_engine(weight_runs[sharpe_ratio_runs.argmax(), :], initial_investment)"
   ]
  },
  {
   "cell_type": "code",
   "execution_count": null,
   "id": "c615398c-ab74-46a7-a235-f3b0cbd7ad6c",
   "metadata": {},
   "outputs": [],
   "source": [
    "print('Best Portfolio Metrics Based on {} Simulation Runs'.format(sim_runs))\n",
    "print('    - Portfolio Expected Annual Return: {:.02f}%'.format(optimal_portfolio_return*100))\n",
    "print('    - Portfolio Optimal Volatility: {:.02f}%'.format(optimal_volatility*100))\n",
    "print('    - Optimal Sharpe Ratio: {:.02f}'.format(optimal_sharpe_ratio))\n",
    "print('    - Optimal Portfolio Value: ${:.02f}'.format(highest_final_value))\n",
    "print('    - Optimal Portfolio ROI: {:.02F}%'.format(optimal_roi))"
   ]
  },
  {
   "cell_type": "code",
   "execution_count": null,
   "id": "5407138d-d71c-4158-acd5-21375bc44aaf",
   "metadata": {},
   "outputs": [],
   "source": [
    "simulation_df = pd.DataFrame({'Volatility': volatility_runs.tolist(), 'Portfolio Return': expected_portfolio_returns_runs.tolist(), 'Sharpe Ratio': sharpe_ratio_runs.tolist()  })\n",
    "simulation_df"
   ]
  },
  {
   "cell_type": "code",
   "execution_count": null,
   "id": "24dcd4a3-83b2-4693-a7f7-a543180d8a17",
   "metadata": {},
   "outputs": [],
   "source": [
    "fig = go.Figure()\n",
    "\n",
    "fig.add_trace(go.Scatter(\n",
    "    x=simulation_df['Volatility'],\n",
    "    y=simulation_df['Portfolio Return'],\n",
    "    mode='markers',\n",
    "    marker=dict(\n",
    "        size=10,\n",
    "        color=simulation_df['Sharpe Ratio'],  # Color by Sharpe Ratio\n",
    "        colorscale='Viridis',\n",
    "        showscale=True,\n",
    "        colorbar=dict(title=\"Sharpe Ratio\")\n",
    "    ),\n",
    "    text=[f\"Sharpe: {sr:.2f}\" for sr in simulation_df['Sharpe Ratio']],  # Hover text\n",
    "    name=\"Portfolio Simulations\"\n",
    "))\n",
    "\n",
    "# Layout Settings\n",
    "fig.update_layout(\n",
    "    title=\"Portfolio Simulation: Volatility vs Expected Return\",\n",
    "    xaxis_title=\"Volatility (Risk)\",\n",
    "    yaxis_title=\"Expected Portfolio Return\",\n",
    "    template=\"plotly_white\",\n",
    "    hovermode=\"closest\"\n",
    ")\n",
    "\n",
    "# Show the plot\n",
    "fig.show()"
   ]
  },
  {
   "cell_type": "code",
   "execution_count": null,
   "id": "7912ab4a-4891-43e7-b9dd-ddd6a097cbab",
   "metadata": {},
   "outputs": [],
   "source": [
    "fig = go.Figure()\n",
    "\n",
    "fig.add_trace(go.Scatter(\n",
    "    x=simulation_df['Volatility'],\n",
    "    y=simulation_df['Portfolio Return'],\n",
    "    mode='markers',\n",
    "    marker=dict(\n",
    "        size=10,\n",
    "        color=simulation_df['Sharpe Ratio'],  # Color markers by Sharpe Ratio\n",
    "        colorscale='Viridis',\n",
    "        showscale=True,\n",
    "        colorbar=dict(title=\"Sharpe Ratio\")\n",
    "    ),\n",
    "    text=[f\"Sharpe: {sr:.2f}\" for sr in simulation_df['Sharpe Ratio']],\n",
    "    name=\"Portfolio Simulations\"\n",
    "))\n",
    "\n",
    "# Find the row with the maximum Sharpe ratio\n",
    "max_idx = simulation_df['Sharpe Ratio'].idxmax()\n",
    "max_point = simulation_df.loc[max_idx]\n",
    "\n",
    "# Add an extra trace for the maximum Sharpe ratio point (the \"exploded\" marker)\n",
    "fig.add_trace(go.Scatter(\n",
    "    x=[max_point['Volatility']],\n",
    "    y=[max_point['Portfolio Return']],\n",
    "    mode='markers+text',\n",
    "    marker=dict(\n",
    "        size=20,\n",
    "        color='red',\n",
    "        symbol='star'\n",
    "    ),\n",
    "    text=[f\"Max Sharpe: {max_point['Sharpe Ratio']:.2f}\"],\n",
    "    textposition='top center',\n",
    "    name='Max Sharpe Ratio'\n",
    "))\n",
    "\n",
    "# Update layout settings\n",
    "fig.update_layout(\n",
    "    title=\"Portfolio Simulation: Volatility vs Expected Return (Max Sharpe Highlighted)\",\n",
    "    xaxis_title=\"Volatility (Risk)\",\n",
    "    yaxis_title=\"Expected Portfolio Return\",\n",
    "    template=\"plotly_white\",\n",
    "    hovermode=\"closest\"\n",
    ")\n",
    "\n",
    "# Display the plot\n",
    "fig.show()"
   ]
  }
 ],
 "metadata": {
  "kernelspec": {
   "display_name": "Python 3 (ipykernel)",
   "language": "python",
   "name": "python3"
  },
  "language_info": {
   "codemirror_mode": {
    "name": "ipython",
    "version": 3
   },
   "file_extension": ".py",
   "mimetype": "text/x-python",
   "name": "python",
   "nbconvert_exporter": "python",
   "pygments_lexer": "ipython3",
   "version": "3.13.2"
  }
 },
 "nbformat": 4,
 "nbformat_minor": 5
}
