{
 "cells": [
  {
   "cell_type": "code",
   "execution_count": null,
   "id": "0579a98d-e330-4594-b0db-ec711b74795b",
   "metadata": {},
   "outputs": [],
   "source": [
    "%%writefile .gitignore\n",
    "pythonpractice/\n",
    "__pycache__/\n",
    "*.py[cod]\n",
    "*.so\n",
    ".ipynb_checkpoints/\n",
    ".DS_Store\n",
    ".vscode/\n",
    ".env\n",
    "*.env\n",
    "*.nbconvert.ipynb"
   ]
  },
  {
   "cell_type": "code",
   "execution_count": null,
   "id": "7c8f0b27-3bb1-44ba-a9a1-ab9c2b65442c",
   "metadata": {},
   "outputs": [],
   "source": [
    "!cat .gitignore"
   ]
  },
  {
   "cell_type": "code",
   "execution_count": null,
   "id": "57a73812-347b-453a-9547-981083ecc271",
   "metadata": {},
   "outputs": [],
   "source": [
    "#Gordon Growth Model Stock Valuation\n",
    "\n",
    "def get_ggm(*args):\n",
    "    cost_of_equity, dps, growth_rate, current_price = args\n",
    "    \n",
    "    if cost_of_equity <= growth_rate:\n",
    "        raise ValueError('Cost of Equity must be larger than the growth rate for the model to be valid')\n",
    "    \n",
    "    intrinsic_value = dps / (cost_of_equity - growth_rate)\n",
    "    \n",
    "    print(f\"The intrinsic value is: ${intrinsic_value:.2f}\")\n",
    "    \n",
    "    # Optional: check if current price is within ±2%\n",
    "    lower_bound = intrinsic_value * 0.98\n",
    "    upper_bound = intrinsic_value * 1.02\n",
    "    \n",
    "    if lower_bound <= current_price <= upper_bound:\n",
    "        print(\"Stock is Fairly Valued ✅\")\n",
    "    elif current_price < lower_bound:\n",
    "        print(\"Stock is Undervalued 📉\")\n",
    "    else:\n",
    "        print(\"Stock is Overvalued 📈\")\n",
    "\n",
    "try:\n",
    "    r = float(input('Enter the Cost of Equity : '))\n",
    "    g = float(input('Enter the Growth Rate : '))\n",
    "    d1 = float(input('Enter the Dividend Per Share one period from today: '))\n",
    "    p = float(input('Enter the Current Stock Price: '))\n",
    "\n",
    "    get_ggm(r, d1, g, p)\n",
    "\n",
    "except ValueError as e:\n",
    "    print(f'Error: {e}')\n"
   ]
  },
  {
   "cell_type": "code",
   "execution_count": null,
   "id": "c0316b65-5856-4086-9db0-920bdf5704e0",
   "metadata": {
    "scrolled": true
   },
   "outputs": [],
   "source": [
    "pip install pandas numpy yfinance matplotlib seaborn plotly"
   ]
  },
  {
   "cell_type": "code",
   "execution_count": null,
   "id": "0ec5f765-dd34-4bcc-85c3-c5c1b8e3e249",
   "metadata": {},
   "outputs": [],
   "source": [
    "import pandas as pd\n",
    "import numpy as np\n",
    "import yfinance as yf\n",
    "import matplotlib.pyplot as plt\n",
    "import seaborn as sns\n",
    "import plotly.express as px\n",
    "import plotly.graph_objects as go\n",
    "import random"
   ]
  },
  {
   "cell_type": "code",
   "execution_count": null,
   "id": "1f5eb217-394e-4f32-ab14-f3b9ec4ae6cf",
   "metadata": {},
   "outputs": [],
   "source": [
    "#Import Any Stock from Yahoo Finance using Ticker\n",
    "#auto_adjust = False gives Adj Close column\n",
    "\n",
    "mastercard = yf.Ticker('MA')\n",
    "ma_data = mastercard.history(period='1y', auto_adjust = False)\n",
    "ma_data.head(10)"
   ]
  },
  {
   "cell_type": "code",
   "execution_count": null,
   "id": "83056dd4-afc3-4ec7-8ee7-6f3d87b0eead",
   "metadata": {},
   "outputs": [],
   "source": [
    "ma_data.info()"
   ]
  },
  {
   "cell_type": "code",
   "execution_count": null,
   "id": "f7bbf406-6698-43e1-982f-73f1d62350f0",
   "metadata": {},
   "outputs": [],
   "source": [
    "#Get Daily Returns and commit column to dataframe memory\n",
    "\n",
    "ma_data['Daily Return'] = ma_data['Adj Close'].pct_change(1) * 100\n",
    "ma_data"
   ]
  },
  {
   "cell_type": "code",
   "execution_count": null,
   "id": "2ef7d360-93eb-4c0a-ab0d-a8202eceb20d",
   "metadata": {},
   "outputs": [],
   "source": [
    "#Replace NaN with value\n",
    "\n",
    "ma_data.replace(np.nan, 0 , inplace = True)\n",
    "ma_data"
   ]
  },
  {
   "cell_type": "code",
   "execution_count": null,
   "id": "0b2b6691-db82-4d5e-b4a3-456457aab417",
   "metadata": {},
   "outputs": [],
   "source": [
    "#Cleaning data\n",
    "\n",
    "ma_data = ma_data.reset_index()\n",
    "ma_data"
   ]
  },
  {
   "cell_type": "code",
   "execution_count": null,
   "id": "113ccebf-3ca8-4d21-b2cb-7a40cd84f78e",
   "metadata": {},
   "outputs": [],
   "source": [
    "#Cleaning data\n",
    "\n",
    "ma_data = ma_data.drop(columns=['level_0', 'index'])\n",
    "ma_data"
   ]
  },
  {
   "cell_type": "code",
   "execution_count": null,
   "id": "f61215c0-d880-4179-a8e6-22157038d1fc",
   "metadata": {},
   "outputs": [],
   "source": [
    "ma_data.describe().round(2)"
   ]
  },
  {
   "cell_type": "code",
   "execution_count": null,
   "id": "dbb7ebf4-0142-4a9e-a420-b8b06d1b33bc",
   "metadata": {},
   "outputs": [],
   "source": [
    "fig = px.line(title = 'Mastercard (MA) Adjusted Closing Price')\n",
    "fig.add_scatter(x = ma_data['Date'], y = ma_data['Adj Close'], name = 'Adj Close')"
   ]
  },
  {
   "cell_type": "code",
   "execution_count": null,
   "id": "9d3ca4cf-f47b-48f7-b6e3-4ec5eb1b171a",
   "metadata": {},
   "outputs": [],
   "source": [
    "#Create function to be used for plotting data throughout project\n",
    "\n",
    "def plot_data (df, title):\n",
    "    fig = px.line(title = title)\n",
    "\n",
    "    for i in df.columns[1:]:\n",
    "        fig.add_scatter(x = df['Date'], y = df[i], name = i)\n",
    "        fig.update_traces(line_width = 5)\n",
    "        fig.update_layout({'plot_bgcolor': \"white\"})\n",
    "    fig.show()"
   ]
  },
  {
   "cell_type": "code",
   "execution_count": null,
   "id": "0b4b0150-a87a-45d4-b0e0-8c761d20b1b1",
   "metadata": {},
   "outputs": [],
   "source": [
    "plot_data(ma_data.drop(['Volume', 'Daily Return', 'Stock Splits', 'Dividends'], axis =1), 'Mastercard (MA) Stock Price')"
   ]
  },
  {
   "cell_type": "code",
   "execution_count": null,
   "id": "706c9e5a-016e-4c42-8b96-2f06e1ac3fba",
   "metadata": {},
   "outputs": [],
   "source": [
    "plot_data(ma_data.iloc[:,[0,6]], 'Mastercard (MA) Stock Daily Volume')"
   ]
  },
  {
   "cell_type": "code",
   "execution_count": null,
   "id": "23faf615-7f66-4770-b7d6-04f2a43e1b05",
   "metadata": {},
   "outputs": [],
   "source": [
    "plot_data(ma_data.iloc[:,[0,9]], 'Mastercard (MA) Daily Return')"
   ]
  },
  {
   "cell_type": "code",
   "execution_count": null,
   "id": "dd69372e-0fce-4c70-8e86-f277b310834c",
   "metadata": {},
   "outputs": [],
   "source": [
    "#Pie Chart of Std Dev Moves using pd.cut\n",
    "\n",
    "ma_returns = ma_data['Daily Return']\n",
    "std = ma_returns.std()\n",
    "\n",
    "bins = [0, std, 2*std, np.inf]\n",
    "labels = ['< 1σ Move', '1-2σ Move', '≥ 2σ Move']\n",
    "\n",
    "ma_data['Return Category'] = pd.cut(ma_returns.abs(), bins=bins, labels=labels, include_lowest=True)\n",
    "\n",
    "category_counts = ma_data['Return Category'].value_counts().sort_index()\n",
    "\n",
    "plt.figure(figsize=(6,6))\n",
    "plt.pie(category_counts, labels=category_counts.index, autopct='%1.1f%%',\n",
    "        startangle=140, wedgeprops={'edgecolor': 'black'})\n",
    "plt.title('Distribution of Daily Returns by Standard Deviation Moves')\n",
    "plt.show()"
   ]
  },
  {
   "cell_type": "code",
   "execution_count": null,
   "id": "8a4fec7e-c503-463a-8113-6bbfe3950f2a",
   "metadata": {},
   "outputs": [],
   "source": [
    "# Build candlestick chart\n",
    "\n",
    "fig = go.Figure(data=[\n",
    "    go.Candlestick(\n",
    "        x=ma_data.index,\n",
    "        open=ma_data['Open'],\n",
    "        high=ma_data['High'],\n",
    "        low=ma_data['Low'],\n",
    "        close=ma_data['Close'],\n",
    "        name='Candlestick'\n",
    "    )\n",
    "])\n",
    "ma_data['SMA14'] = ma_data['Close'].rolling(window=14).mean()\n",
    "ma_data['SMA21'] = ma_data['Close'].rolling(window=21).mean()\n",
    "\n",
    "for period, color in zip([14, 21], ['blue', 'orange']):\n",
    "    fig.add_trace(go.Scatter(\n",
    "        x=ma_data.index,\n",
    "        y=ma_data[f'SMA{period}'],\n",
    "        mode='lines',\n",
    "        line=dict(color=color,width=2),\n",
    "        name=f'{period}-Day SMA'\n",
    "    ))\n",
    "    \n",
    "\n",
    "fig.update_layout(\n",
    "    title='Mastercard Candlestick Chart With SMA',\n",
    "    xaxis_title='Date',\n",
    "    yaxis_title='Price ($)',\n",
    "    xaxis_rangeslider_visible=False\n",
    ")\n",
    "\n",
    "fig.show()\n"
   ]
  },
  {
   "cell_type": "code",
   "execution_count": null,
   "id": "b4fa6a6f-6113-49e7-a6f1-d609e85f57d1",
   "metadata": {},
   "outputs": [],
   "source": [
    "#Bring in portfolio of stocks from Yahoo Finance using Tickers\n",
    "\n",
    "tickers = ['BA', 'WMT', 'QCOM', 'XOM', 'LULU', 'MA']\n",
    "stocks = yf.download(tickers, start='2019-01-01', end='2024-12-31', auto_adjust = False)['Close']\n",
    "print(stocks.head())"
   ]
  },
  {
   "cell_type": "code",
   "execution_count": null,
   "id": "9390ea9b-af01-4250-a086-f4df7f038bf2",
   "metadata": {},
   "outputs": [],
   "source": [
    "#Verify there are no NaN values\n",
    "\n",
    "stocks.isnull().sum()"
   ]
  },
  {
   "cell_type": "code",
   "execution_count": null,
   "id": "2090177c-594d-42b5-a556-8bfe44ce0432",
   "metadata": {},
   "outputs": [],
   "source": [
    "stocks"
   ]
  },
  {
   "cell_type": "code",
   "execution_count": null,
   "id": "84b8e874-7e20-4016-a621-6b992c5f43a6",
   "metadata": {},
   "outputs": [],
   "source": [
    "#Clean Data to be used for analysis\n",
    "\n",
    "stocks.columns.name = None\n",
    "stocks"
   ]
  },
  {
   "cell_type": "code",
   "execution_count": null,
   "id": "f92c65da-60ae-4e5d-a2b9-0e82f4f72f31",
   "metadata": {},
   "outputs": [],
   "source": [
    "#Clean Data to be used for analysis\n",
    "\n",
    "stocks.index = pd.to_datetime(stocks.index)\n",
    "stocks = stocks.reset_index()\n",
    "stocks.insert(0, 'Index', range(1, len(stocks) +1))\n",
    "stocks"
   ]
  },
  {
   "cell_type": "code",
   "execution_count": null,
   "id": "5195da58-f670-404e-9427-3c3b968d41f8",
   "metadata": {},
   "outputs": [],
   "source": [
    "#Clean Data to be used for analysis\n",
    "\n",
    "stocks.drop('Index', axis=1, inplace=True)\n",
    "stocks"
   ]
  },
  {
   "cell_type": "code",
   "execution_count": null,
   "id": "40960583-f8cd-4524-9542-717961128cc7",
   "metadata": {},
   "outputs": [],
   "source": [
    "#Get a Daily Returns dataframe for analysis\n",
    "\n",
    "daily_returns_df = stocks.iloc[:, 1:].pct_change() * 100\n",
    "daily_returns_df"
   ]
  },
  {
   "cell_type": "code",
   "execution_count": null,
   "id": "f0522a91-309e-49e9-b241-07de0989dd34",
   "metadata": {},
   "outputs": [],
   "source": [
    "daily_returns_df.replace(np.nan, 0, inplace = True)\n",
    "daily_returns_df"
   ]
  },
  {
   "cell_type": "code",
   "execution_count": null,
   "id": "25e0d12e-ee8f-4274-acf0-1417d57e7a1c",
   "metadata": {},
   "outputs": [],
   "source": [
    "daily_returns_df.insert(0, 'Date', stocks['Date'])\n",
    "daily_returns_df"
   ]
  },
  {
   "cell_type": "code",
   "execution_count": null,
   "id": "c1f35b1d-0425-47f1-8e56-26ba5af1bdfc",
   "metadata": {},
   "outputs": [],
   "source": [
    "plot_data(stocks, 'Portfolio Adjusted Closing Prices')"
   ]
  },
  {
   "cell_type": "code",
   "execution_count": null,
   "id": "d347c299-bd5e-41fe-9d3b-52e8814db56c",
   "metadata": {},
   "outputs": [],
   "source": [
    "plot_data(daily_returns_df, 'Portfolio Daily Returns')"
   ]
  },
  {
   "cell_type": "code",
   "execution_count": null,
   "id": "a38a0b51-0a53-42f9-a055-576e06bc6f2b",
   "metadata": {},
   "outputs": [],
   "source": [
    "fig = px.histogram(daily_returns_df.drop(columns = ['Date']))\n",
    "fig.update_layout({'plot_bgcolor': \"white\"})"
   ]
  },
  {
   "cell_type": "code",
   "execution_count": null,
   "id": "d1433c11-8ff0-4215-ac74-424ab7f0c981",
   "metadata": {},
   "outputs": [],
   "source": [
    "plt.figure(figsize = (10,8))\n",
    "sns.heatmap(daily_returns_df.drop(columns = ['Date']).corr(), annot = True, cmap = 'crest');"
   ]
  },
  {
   "cell_type": "code",
   "execution_count": null,
   "id": "43c822ff-6378-46ba-a30a-0278aaefbfcc",
   "metadata": {},
   "outputs": [],
   "source": [
    "sns.pairplot(daily_returns_df);"
   ]
  },
  {
   "cell_type": "code",
   "execution_count": null,
   "id": "6eb580ef-f4e7-41b8-920f-1730db084f71",
   "metadata": {},
   "outputs": [],
   "source": [
    "#Function to scale prices of all stocks in portfolio to begin at same point\n",
    "\n",
    "def price_scale(raw_prices):\n",
    "    scaled_prices = raw_prices.copy()\n",
    "    for i in raw_prices.columns[1:]:\n",
    "        scaled_prices[i] = raw_prices[i]/raw_prices[i][0]\n",
    "    return scaled_prices"
   ]
  },
  {
   "cell_type": "code",
   "execution_count": null,
   "id": "169b0092-3672-4b87-aabf-375ce743176f",
   "metadata": {},
   "outputs": [],
   "source": [
    "price_scale(stocks)"
   ]
  },
  {
   "cell_type": "code",
   "execution_count": null,
   "id": "1c20d622-e96b-45bb-b7dc-fa36b298350e",
   "metadata": {},
   "outputs": [],
   "source": [
    "plot_data(price_scale(stocks), 'Portfolio Adjusted Close Data Scaled')"
   ]
  },
  {
   "cell_type": "code",
   "execution_count": null,
   "id": "f1d9b2f9-212f-45c6-ab76-2414bced7fa9",
   "metadata": {},
   "outputs": [],
   "source": [
    "#Function to obtain random weights to be used in Monte Carlo Simulation\n",
    "\n",
    "def portfolio_weights(n):\n",
    "    weights = []\n",
    "    for i in range(n):\n",
    "        weights.append(random.random())\n",
    "\n",
    "    weights = weights/np.sum(weights)\n",
    "    return weights"
   ]
  },
  {
   "cell_type": "code",
   "execution_count": null,
   "id": "a64e5d3f-f87f-42d7-9e5b-2f4a4923f04d",
   "metadata": {},
   "outputs": [],
   "source": [
    "weights = portfolio_weights(6)\n",
    "print(weights)"
   ]
  },
  {
   "cell_type": "code",
   "execution_count": null,
   "id": "2bf33dc6-be61-4687-9c2a-a278ca7ae162",
   "metadata": {},
   "outputs": [],
   "source": [
    "weights.sum()"
   ]
  },
  {
   "cell_type": "code",
   "execution_count": null,
   "id": "b1a31e64-974f-4469-97ef-12d166c7e729",
   "metadata": {},
   "outputs": [],
   "source": [
    "portfolio_df = stocks.copy()\n",
    "scaled_df = price_scale(portfolio_df)\n",
    "scaled_df"
   ]
  },
  {
   "cell_type": "code",
   "execution_count": null,
   "id": "d21630b2-069f-43d2-a848-3512b54018e1",
   "metadata": {},
   "outputs": [],
   "source": [
    "investment = 10000000\n",
    "for i, stock in enumerate(scaled_df.columns[1:]):\n",
    "    portfolio_df[stock] = weights[i] * scaled_df[stock] * investment\n",
    "portfolio_df.round(1)"
   ]
  },
  {
   "cell_type": "code",
   "execution_count": null,
   "id": "a0ead821-4b8f-45cb-99ec-057dac464f4d",
   "metadata": {},
   "outputs": [],
   "source": [
    "#Function to be used in Monte Carlo Simulation to determine optimal asset allocation\n",
    "\n",
    "def asset_allocation(df, weights, investment):\n",
    "    portfolio_df = df.copy()\n",
    "    scaled_df = price_scale(df)\n",
    "\n",
    "    for i, stock in enumerate(scaled_df.columns[1:]):\n",
    "        portfolio_df[stock] = scaled_df[stock] * weights[i] * investment\n",
    "\n",
    "    portfolio_df['Portfolio Value'] = portfolio_df[portfolio_df != 'Date'].sum(axis = 1, numeric_only = True)\n",
    "\n",
    "    portfolio_df['Portfolio Daily % Return'] = portfolio_df['Portfolio Value'].pct_change(1) * 100\n",
    "    portfolio_df.replace(np.nan, 0, inplace = True)\n",
    "\n",
    "    return portfolio_df"
   ]
  },
  {
   "cell_type": "code",
   "execution_count": null,
   "id": "af484bc2-4501-4d57-ba3b-06127c42e153",
   "metadata": {},
   "outputs": [],
   "source": [
    "n = len(stocks.columns)-1\n",
    "print(f'Number of Stocks In The Portfolio: {n}')\n",
    "weights = portfolio_weights(n).round(6)\n",
    "print(f'Portfolio weights: {weights}')\n",
    "\n",
    "portfolio_df = asset_allocation(stocks, weights, 10000000)\n",
    "portfolio_df.round(2)"
   ]
  },
  {
   "cell_type": "code",
   "execution_count": null,
   "id": "da779967-3283-474d-b2fd-8e05eb5856c9",
   "metadata": {},
   "outputs": [],
   "source": [
    "plot_data(portfolio_df[['Date', 'Portfolio Daily % Return']], 'Portfolio Daily % Return')\n",
    "\n",
    "plot_data(portfolio_df.drop(['Portfolio Value', 'Portfolio Daily % Return'], axis = 1), 'Individual Stock Position Values')\n",
    "\n",
    "plot_data(portfolio_df[['Date', 'Portfolio Value']], 'Total Portfolio Value')"
   ]
  },
  {
   "cell_type": "code",
   "execution_count": null,
   "id": "1aa32c18-8cac-4319-a3bd-ecc439acff4e",
   "metadata": {},
   "outputs": [],
   "source": [
    "std = portfolio_df['Portfolio Daily % Return'].std()\n",
    "\n",
    "bins = [0, std, 2*std, np.inf]\n",
    "labels = ['< 1σ Move', '1-2σ Move', '≥ 2σ Move']\n",
    "\n",
    "portfolio_df['Return Category'] = pd.cut(portfolio_df['Portfolio Daily % Return'].abs(), bins=bins, labels=labels, include_lowest=True)\n",
    "\n",
    "category_counts = portfolio_df['Return Category'].value_counts().sort_index()\n",
    "\n",
    "plt.figure(figsize=(6,6))\n",
    "plt.pie(category_counts, labels=category_counts.index, autopct='%1.1f%%',\n",
    "        startangle=140, wedgeprops={'edgecolor': 'black'})\n",
    "plt.title('Portfolio Daily Returns by Standard Deviation Moves')\n",
    "plt.show()"
   ]
  },
  {
   "cell_type": "code",
   "execution_count": null,
   "id": "48aa01b3-f6cc-43e4-9f8c-f2c58f6e485e",
   "metadata": {},
   "outputs": [],
   "source": [
    "#Function to be used for Monte Carlo Simulation\n",
    "\n",
    "def sim_engine(weights, investment):\n",
    "    portfolio_df = asset_allocation(stocks, weights, investment)\n",
    "\n",
    "    roi = ((portfolio_df['Portfolio Value'][-1:] -\n",
    "            portfolio_df['Portfolio Value'][0]) /\n",
    "            portfolio_df['Portfolio Value'][0]) * 100\n",
    "\n",
    "    portfolio_daily_return = portfolio_df.drop(columns = ['Date', 'Portfolio Value', 'Portfolio Daily % Return'])\n",
    "    portfolio_daily_return = portfolio_daily_return.pct_change(1)\n",
    "\n",
    "    expected_return = np.sum(weights * portfolio_daily_return.mean()) * 252\n",
    "    covariance = portfolio_daily_return.cov() * 252\n",
    "    expected_vol = np.sqrt(np.dot(weights.T, np.dot(covariance, weights)))\n",
    "\n",
    "    #10YR US Treasury rate at the time of analysis - taken from ycharts\n",
    "\n",
    "    rf = 0.0427\n",
    "\n",
    "    sharpe_ratio = (expected_return - rf) / expected_vol\n",
    "    return expected_return, expected_vol, sharpe_ratio, portfolio_df['Portfolio Value'][-1:].values[0], roi.values[0]"
   ]
  },
  {
   "cell_type": "code",
   "execution_count": null,
   "id": "131af95e-9ad5-480a-828c-7ce5d964d05b",
   "metadata": {},
   "outputs": [],
   "source": [
    "investment = 10000000\n",
    "portfolio_metrics = sim_engine(weights, investment)\n",
    "\n",
    "print(f'Expected Portfolio Annual Return = {portfolio_metrics[0] *100:.2f}%')\n",
    "print(f'Portfolio Std Dev (Vol) = {portfolio_metrics[1] *100:.2f}%')\n",
    "print(f'Sharpe Ratio = {portfolio_metrics[2]:.2f}')\n",
    "print(f'Portfolio Value = ${portfolio_metrics[3]:.2f}')\n",
    "print(f'ROI = {portfolio_metrics[4]:.2f}%')"
   ]
  },
  {
   "cell_type": "code",
   "execution_count": null,
   "id": "ecee4f59-d4cb-4ca9-a506-a5b0aa01d16a",
   "metadata": {
    "scrolled": true
   },
   "outputs": [],
   "source": [
    "#Monte Carlo Simulation\n",
    "\n",
    "runs = 1000\n",
    "investment = 10000000\n",
    "\n",
    "weights_runs = np.zeros((runs, n))\n",
    "sharpe_ratio_runs = np.zeros(runs)\n",
    "expected_return_runs = np.zeros(runs)\n",
    "vol_runs = np.zeros(runs)\n",
    "roi_runs = np.zeros(runs)\n",
    "portfolio_value_runs = np.zeros(runs)\n",
    "\n",
    "for i in range(runs):\n",
    "    weights = portfolio_weights(n)\n",
    "    weights_runs[i,:] = weights\n",
    "\n",
    "    expected_return_runs[i], vol_runs[i], sharpe_ratio_runs[i], portfolio_value_runs[i], roi_runs[i] = sim_engine(weights, investment)\n",
    "    print(f'Simulation Run = {i}')\n",
    "    print(f'Weights : {weights_runs[i].round(3)}, Portfolio Value : ${portfolio_value_runs[i].round(2)}, Sharpe Ratio : {sharpe_ratio_runs[i].round(2)}')\n",
    "    print('\\n')"
   ]
  },
  {
   "cell_type": "code",
   "execution_count": null,
   "id": "422f57db-40ed-492d-a3c4-b236c39df19b",
   "metadata": {},
   "outputs": [],
   "source": [
    "#View max sharpe ratio found in n Monte Carlo Simulations\n",
    "\n",
    "sharpe_ratio_runs.max()"
   ]
  },
  {
   "cell_type": "code",
   "execution_count": null,
   "id": "ef0f4552-21e4-4da0-8276-05a72277306c",
   "metadata": {},
   "outputs": [],
   "source": [
    "#View position of max sharpe ratio found in n Monte Carlo Simulations\n",
    "\n",
    "sharpe_ratio_runs.argmax()"
   ]
  },
  {
   "cell_type": "code",
   "execution_count": null,
   "id": "85a6d7ac-c6f9-4458-99f2-ce1b05418b7b",
   "metadata": {},
   "outputs": [],
   "source": [
    "#View optimal weights of portfolio found in n Monte Carlo Simulations\n",
    "\n",
    "weights_runs[sharpe_ratio_runs.argmax(), :]"
   ]
  },
  {
   "cell_type": "code",
   "execution_count": null,
   "id": "1411c5ee-bd7a-435e-976c-9e92fd12d825",
   "metadata": {},
   "outputs": [],
   "source": [
    "#View optimal portfolio metrics\n",
    "\n",
    "optimal_portfolio_return, optimal_vol, optimal_sharpe_ratio, optimal_portfolio_value, optimal_roi =sim_engine(weights_runs[sharpe_ratio_runs.argmax(), :], investment)"
   ]
  },
  {
   "cell_type": "code",
   "execution_count": null,
   "id": "4e5fbd71-bbdc-4a57-8d29-afc5be685cde",
   "metadata": {},
   "outputs": [],
   "source": [
    "print(f'Optimal Portfolio Metrics based on {runs} Monte Carlo Sim Runs:')\n",
    "print(f'   -Expected Annual Return : {optimal_portfolio_return * 100:.02f}%')\n",
    "print(f'   -Std Dev (Vol) : {optimal_vol * 100:.02f}%')\n",
    "print(f'   -Sharpe Ratio : {optimal_sharpe_ratio:.02f}')\n",
    "print(f'   -Dollar Value : ${optimal_portfolio_value:,.02f}')\n",
    "print(f'   -ROI : {optimal_roi:.02f}%')"
   ]
  },
  {
   "cell_type": "code",
   "execution_count": null,
   "id": "99fb1308-13e4-4c69-884f-265816ba7701",
   "metadata": {},
   "outputs": [],
   "source": [
    "#Create DataFrame of corresponding Vol, Return, and Sharpe Ratio to be used for Markowitz Efficient Frontier Visual\n",
    "\n",
    "sim_result_df = pd.DataFrame({'Volatility': vol_runs.tolist(), 'Portfolio Return': expected_return_runs.tolist(), 'Sharpe Ratio': sharpe_ratio_runs.tolist()})\n",
    "sim_result_df"
   ]
  },
  {
   "cell_type": "code",
   "execution_count": null,
   "id": "bb9e5bb1-f5bb-4888-b14b-ebb94f247628",
   "metadata": {},
   "outputs": [],
   "source": [
    "#Markowitz Efficient Frontier Visual\n",
    "\n",
    "fig = px.scatter(sim_result_df, x = 'Volatility', y = 'Portfolio Return', color = 'Sharpe Ratio', size = 'Sharpe Ratio', hover_data = ['Sharpe Ratio'])\n",
    "fig.update_layout({'plot_bgcolor':\"white\"})\n",
    "fig.show()"
   ]
  },
  {
   "cell_type": "code",
   "execution_count": null,
   "id": "65b17200-cc32-4292-a10c-b59333e75dd4",
   "metadata": {},
   "outputs": [],
   "source": [
    "#Create Visual of Optimal Portfolio\n",
    "\n",
    "fig = px.scatter(sim_result_df, x = 'Volatility', y = 'Portfolio Return', color = 'Sharpe Ratio', size = 'Sharpe Ratio', hover_data = ['Sharpe Ratio'])\n",
    "fig.add_trace(go.Scatter(x = [optimal_vol], y = [optimal_portfolio_return], mode = 'markers', name = 'Optimal Point', marker = dict(size=[40], color = 'green')))\n",
    "fig.update_layout(coloraxis_colorbar = dict(y= 0.7, dtick = 5))\n",
    "fig.update_layout({'plot_bgcolor':\"white\"})\n",
    "fig.show()"
   ]
  },
  {
   "cell_type": "code",
   "execution_count": null,
   "id": "e17d964d-ece3-4e2b-960b-19f75e6f0fef",
   "metadata": {},
   "outputs": [],
   "source": []
  },
  {
   "cell_type": "code",
   "execution_count": null,
   "id": "978a57ad-1de7-4824-9121-6d3a1d01139a",
   "metadata": {},
   "outputs": [],
   "source": []
  }
 ],
 "metadata": {
  "kernelspec": {
   "display_name": "Python Practice",
   "language": "python",
   "name": "pythonpractice"
  },
  "language_info": {
   "codemirror_mode": {
    "name": "ipython",
    "version": 3
   },
   "file_extension": ".py",
   "mimetype": "text/x-python",
   "name": "python",
   "nbconvert_exporter": "python",
   "pygments_lexer": "ipython3",
   "version": "3.13.2"
  }
 },
 "nbformat": 4,
 "nbformat_minor": 5
}
